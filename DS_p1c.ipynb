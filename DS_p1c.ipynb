{
 "cells": [
  {
   "cell_type": "code",
   "execution_count": 5,
   "id": "87480956",
   "metadata": {},
   "outputs": [
    {
     "name": "stdout",
     "output_type": "stream",
     "text": [
      "  Loan_ID  Gender Married  Dependents     Education Self_Employed  \\\n",
      "0    L001    Male     Yes           0      Graduate            No   \n",
      "1    L002  Female      No           1  Not Graduate           Yes   \n",
      "2    L003    Male     Yes           0      Graduate            No   \n",
      "3    L004    Male     Yes           2      Graduate            No   \n",
      "4    L005  Female      No           0      Graduate            No   \n",
      "\n",
      "   ApplicantIncome  CoapplicantIncome  LoanAmount  Loan_Amount_Term  \\\n",
      "0             5000                  0         150               360   \n",
      "1             3000               1500         100               360   \n",
      "2             4000               1800         120               360   \n",
      "3             6000                  0         200               360   \n",
      "4             2500               1200          80               180   \n",
      "\n",
      "   Credit_History Property_Area Loan_Status  \n",
      "0               1         Urban           Y  \n",
      "1               0         Rural           N  \n",
      "2               1     Semiurban           Y  \n",
      "3               1         Urban           Y  \n",
      "4               0     Semiurban           N  \n"
     ]
    }
   ],
   "source": [
    "# Data ko samajhna, structure aur target variable identify karna (Loan_Status)\n",
    "\n",
    "import pandas as pd\n",
    "\n",
    "df = pd.read_csv(r\"C:\\Users\\PMLS\\Downloads\\loan_data.csv\")\n",
    "print(df.head())\n",
    "\n"
   ]
  },
  {
   "cell_type": "code",
   "execution_count": 6,
   "id": "88e292af",
   "metadata": {},
   "outputs": [
    {
     "name": "stdout",
     "output_type": "stream",
     "text": [
      "Loan_ID              0\n",
      "Gender               0\n",
      "Married              0\n",
      "Dependents           0\n",
      "Education            0\n",
      "Self_Employed        0\n",
      "ApplicantIncome      0\n",
      "CoapplicantIncome    0\n",
      "LoanAmount           0\n",
      "Loan_Amount_Term     0\n",
      "Credit_History       0\n",
      "Property_Area        0\n",
      "Loan_Status          0\n",
      "dtype: int64\n"
     ]
    },
    {
     "name": "stderr",
     "output_type": "stream",
     "text": [
      "C:\\Users\\PMLS\\AppData\\Local\\Temp\\ipykernel_15200\\521525643.py:6: FutureWarning: A value is trying to be set on a copy of a DataFrame or Series through chained assignment using an inplace method.\n",
      "The behavior will change in pandas 3.0. This inplace method will never work because the intermediate object on which we are setting values always behaves as a copy.\n",
      "\n",
      "For example, when doing 'df[col].method(value, inplace=True)', try using 'df.method({col: value}, inplace=True)' or df[col] = df[col].method(value) instead, to perform the operation inplace on the original object.\n",
      "\n",
      "\n",
      "  df['Gender'].fillna(df['Gender'].mode()[0], inplace=True)\n",
      "C:\\Users\\PMLS\\AppData\\Local\\Temp\\ipykernel_15200\\521525643.py:7: FutureWarning: A value is trying to be set on a copy of a DataFrame or Series through chained assignment using an inplace method.\n",
      "The behavior will change in pandas 3.0. This inplace method will never work because the intermediate object on which we are setting values always behaves as a copy.\n",
      "\n",
      "For example, when doing 'df[col].method(value, inplace=True)', try using 'df.method({col: value}, inplace=True)' or df[col] = df[col].method(value) instead, to perform the operation inplace on the original object.\n",
      "\n",
      "\n",
      "  df['LoanAmount'].fillna(df['LoanAmount'].mean(), inplace=True)\n"
     ]
    }
   ],
   "source": [
    "#Missing values handle karna, categorical ko numeric mein convert karna.\n",
    "# Missing values check\n",
    "print(df.isnull().sum())\n",
    "\n",
    "# Fill missing values\n",
    "df['Gender'].fillna(df['Gender'].mode()[0], inplace=True)\n",
    "df['LoanAmount'].fillna(df['LoanAmount'].mean(), inplace=True)\n",
    "\n",
    "# Convert categorical to numeric\n",
    "from sklearn.preprocessing import LabelEncoder\n",
    "le = LabelEncoder()\n",
    "for col in ['Gender','Married','Education','Self_Employed','Property_Area','Loan_Status']:\n",
    "    df[col] = le.fit_transform(df[col])\n"
   ]
  },
  {
   "cell_type": "code",
   "execution_count": 18,
   "id": "a32a30c6",
   "metadata": {},
   "outputs": [
    {
     "data": {
      "image/png": "[encoded data removed]",
      "text/plain": [
       "<Figure size 640x480 with 2 Axes>"
      ]
     },
     "metadata": {},
     "output_type": "display_data"
    }
   ],
   "source": [
    "#Results ko graphs ke zariye samajhna.\n",
    "import seaborn as sns\n",
    "import matplotlib.pyplot as plt\n",
    "\n",
    "cm = confusion_matrix(y_test, y_rf_pred)\n",
    "sns.heatmap(cm, annot=True, fmt=\"d\", cmap=\"Blues\")\n",
    "plt.xlabel(\"Predicted\")\n",
    "plt.ylabel(\"Actual\")\n",
    "plt.title(\"Loan Prediction Confusion Matrix\")\n",
    "plt.show()\n"
   ]
  },
  {
   "cell_type": "code",
   "execution_count": 16,
   "id": "e08de3fd",
   "metadata": {},
   "outputs": [],
   "source": [
    "# Features aur target define karo\n",
    "X = df.drop(['Loan_ID', 'Loan_Status'], axis=1, errors='ignore')  # Features\n",
    "y = df['Loan_Status']  # Target\n",
    "\n",
    "# Data ko train/test mein split karo\n",
    "from sklearn.model_selection import train_test_split\n",
    "X_train, X_test, y_train, y_test = train_test_split(X, y, test_size=0.2, random_state=42)\n",
    "\n",
    "# Logistic Regression model train aur predict\n",
    "from sklearn.linear_model import LogisticRegression\n",
    "lr = LogisticRegression()\n",
    "lr.fit(X_train, y_train)\n",
    "y_pred = lr.predict(X_test)\n",
    "\n",
    "# Random Forest model train aur predict\n",
    "from sklearn.ensemble import RandomForestClassifier\n",
    "rf = RandomForestClassifier()\n",
    "rf.fit(X_train, y_train)\n",
    "y_rf_pred = rf.predict(X_test)"
   ]
  },
  {
   "cell_type": "code",
   "execution_count": 10,
   "id": "bbd9a343",
   "metadata": {},
   "outputs": [],
   "source": [
    "#Machine Learning algorithms use karke Loan Status predict karna.\n",
    "from sklearn.preprocessing import LabelEncoder\n",
    "\n",
    "le = LabelEncoder()\n",
    "for col in ['Gender','Married','Education','Self_Employed','Property_Area','Loan_Status']:\n",
    "    df[col] = le.fit_transform(df[col])\n",
    "\n"
   ]
  },
  {
   "cell_type": "code",
   "execution_count": 8,
   "id": "647e06d6",
   "metadata": {},
   "outputs": [],
   "source": [
    "#Data ko training aur testing mein divide karna.\n",
    "from sklearn.model_selection import train_test_split\n",
    "\n",
    "X_train, X_test, y_train, y_test = train_test_split(\n",
    "    X, y, test_size=0.2, random_state=42\n",
    ")\n"
   ]
  },
  {
   "cell_type": "code",
   "execution_count": 14,
   "id": "46546805",
   "metadata": {},
   "outputs": [],
   "source": [
    "#Decide karna ke model ko kaunse features dene hain aur target kya hoga.\n",
    "# 'Loan_ID' ko hata dein agar wo X mein hai\n",
    "X = df.drop(['Loan_ID', 'Loan_Status'], axis=1, errors='ignore')  # Features\n",
    "y = df['Loan_Status']  # Target\n"
   ]
  }
 ],
 "metadata": {
  "kernelspec": {
   "display_name": "Python 3",
   "language": "python",
   "name": "python3"
  },
  "language_info": {
   "codemirror_mode": {
    "name": "ipython",
    "version": 3
   },
   "file_extension": ".py",
   "mimetype": "text/x-python",
   "name": "python",
   "nbconvert_exporter": "python",
   "pygments_lexer": "ipython3",
   "version": "3.13.7"
  }
 },
 "nbformat": 4,
 "nbformat_minor": 5
}
